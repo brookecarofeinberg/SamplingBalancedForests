{
 "cells": [
  {
   "cell_type": "code",
   "execution_count": 489,
   "metadata": {},
   "outputs": [],
   "source": [
    "#import packages \n",
    "import networkx as nx\n",
    "import json\n",
    "from networkx.readwrite import json_graph\n",
    "import matplotlib.pyplot as plt\n",
    "import numpy as np\n",
    "import random\n",
    "import networkx as nx\n",
    "from collections import deque"
   ]
  },
  {
   "cell_type": "code",
   "execution_count": 507,
   "metadata": {},
   "outputs": [],
   "source": [
    "#load cnty data \n",
    "file_path = '/Users/brookefeinberg/SamplingBalancedForests/cnty_hi.json'\n",
    "with open(file_path, 'r') as file:\n",
    "    data = json.load(file)\n",
    "    cnty = json_graph.adjacency_graph(data)"
   ]
  },
  {
   "cell_type": "code",
   "execution_count": 509,
   "metadata": {},
   "outputs": [
    {
     "data": {
      "image/png": "[encoded data removed]",
      "text/plain": [
       "<Figure size 640x480 with 1 Axes>"
      ]
     },
     "metadata": {},
     "output_type": "display_data"
    }
   ],
   "source": [
    "#plot \n",
    "import matplotlib.pyplot as plt\n",
    "node_locations = { v : ( float(cnty.nodes()[v][\"INTPTLON20\"]), float(cnty.nodes()[v][\"INTPTLAT20\"])) for v in cnty.nodes() }\n",
    "plt.figure()\n",
    "nx.draw(cnty, node_size = 10, pos = node_locations)\n",
    "plt.show()"
   ]
  },
  {
   "cell_type": "code",
   "execution_count": 510,
   "metadata": {},
   "outputs": [],
   "source": [
    "#Wilson's Algorithm\n",
    "\n",
    "class WilsonsAlgorithm:\n",
    "    def __init__(self, graph):\n",
    "        self.graph = graph  #store networkX graph \n",
    "        self.adj_list = {v: list(graph.neighbors(v)) for v in graph.nodes() if list(graph.neighbors(v))}  #for each graph node return the neighbors and store it as a dictionary where node is the key and each value corresponds to a list of its neighbors \n",
    "        self.InTree = {node: False for node in self.adj_list}  #initalizes dictionary to keep track of whether nodes have been included in the spanning tree -- FALSE as initial value menaing node has yet to be included in the tree \n",
    "        self.Next = {node: None for node in self.adj_list}  #initalizes dictionary to track path each node takes in a random walk \n",
    "    \n",
    "    def random_edge(self, v): #randomly selects an edge for a given node v \n",
    "        return random.choice(self.adj_list[v]) #retrieves the list of neighbors for node v in the adjacency list and randomly picks one -- simulating step ina  random walk \n",
    "\n",
    "    def RandomTreeWithRoot(self, r): #generate random spanning tree with r as the root node \n",
    "        self.InTree = {node: False for node in self.adj_list} #initalize all nodes as not in the spanning tree \n",
    "        self.InTree[r] = True  #mark root node as in the tree \n",
    "        self.Next[r] = -1  #root node has no parent aka no incoming edges \n",
    "\n",
    "        for node in self.adj_list: #loops through each nodein the graph, attempting to find a path to the root using a random walk \n",
    "            path = []  \n",
    "            while not self.InTree[node]: #loop continues as long as node is not already in the spanning tree \n",
    "                path.append(node)  #record each step of the random walk \n",
    "                self.Next[node] = self.random_edge(node) #choose a random neighbor & record it as the next step in the walk (connects node to its next random neighbor in the path)\n",
    "                node = self.Next[node]  #update next node and the new node so the loop continues till we reach a node already in the spanning tree \n",
    "            for vertex in path:  #loop has broken bc we've reached a node already part of the spanning tree \n",
    "                self.InTree[vertex] = True  #adds each vertex to the spanning tree from the root outward \n",
    "\n",
    "    def sample(self, seed=None):\n",
    "        if seed is not None: #can include seed later on for reproducible results \n",
    "            random.seed(seed)\n",
    "        root = random.choice(list(self.adj_list.keys()))  #picks a random node to be a root \n",
    "        self.RandomTreeWithRoot(root) #builds ranodm spannign tree with the ranodm root chosen \n",
    "\n",
    "        spanning_tree = []  #extract edges of spannign tree for plotting \n",
    "        for node in self.adj_list: \n",
    "            if self.Next[node] != -1 and self.Next[node] is not None: #find nodes connected to another node in the tree \n",
    "                spanning_tree.append((node, self.Next[node])) #addes connection or edge as a tuple of two nodes to the spanning tree list \n",
    "        return spanning_tree, root #returns all the edges in the form of (node1, node2) and the root node \n",
    "\n",
    "    def draw_tree(self, spanning_tree, root, node_locations): #plot the spanning tree on the graph\n",
    "        plt.figure(figsize=(8, 8))\n",
    "        nx.draw(self.graph, pos=node_locations, node_size=10, edge_color='lightgray') #draw original graph \n",
    "        nx.draw_networkx_edges(self.graph, pos=node_locations, edgelist=spanning_tree, edge_color='red', width=2) #draw spanning tree \n",
    "        nx.draw_networkx_nodes(self.graph, pos=node_locations, nodelist=[root], node_color='yellow', node_size=50)  #draw root node \n",
    "        plt.show()"
   ]
  },
  {
   "cell_type": "code",
   "execution_count": 511,
   "metadata": {},
   "outputs": [
    {
     "data": {
      "text/plain": [
       "True"
      ]
     },
     "execution_count": 511,
     "metadata": {},
     "output_type": "execute_result"
    }
   ],
   "source": [
    "#Graph Partitioner \n",
    "class GraphPartitioner:\n",
    "    def __init__(self, graph, k):\n",
    "        self.graph = graph\n",
    "        self.k = k\n",
    "\n",
    "    def create_weighted_partitions_and_draw_spanning_tree(self):\n",
    "        while True:\n",
    "            wilson = WilsonsAlgorithm(self.graph) #generate random spannign tree using wilson's algorithm \n",
    "            spanning_tree, root = wilson.sample() \n",
    "\n",
    "            tree_graph = nx.Graph() \n",
    "            tree_graph.add_edges_from(spanning_tree)  #take edges form spannign tree and add them to the new graph\n",
    "\n",
    "            total_nodes = len(tree_graph) \n",
    "            ideal_size = total_nodes // self.k\n",
    "            extra_nodes = total_nodes % self.k\n",
    "            target_sizes = [ideal_size + 1 if i < extra_nodes else ideal_size for i in range(self.k)] #accomedate odd nodes \n",
    "\n",
    "            # step 1: initalize BFS queues \n",
    "            partitions = [[] for _ in range(self.k)]\n",
    "            partition_sizes = [0] * self.k\n",
    "            bfs_queues = [deque([root])] + [deque() for _ in range(self.k - 1)] \n",
    "\n",
    "            visited = set([root])\n",
    "            partitions[0].append(root)\n",
    "            partition_sizes[0] += 1\n",
    "\n",
    "            # step 2: grow partitions with BFS\n",
    "            for current_partition in range(self.k):\n",
    "                while partition_sizes[current_partition] < target_sizes[current_partition] and bfs_queues[current_partition]:\n",
    "                    node = bfs_queues[current_partition].popleft()\n",
    "                    for neighbor in tree_graph.neighbors(node):\n",
    "                        if neighbor not in visited:\n",
    "                            partitions[current_partition].append(neighbor)\n",
    "                            partition_sizes[current_partition] += 1\n",
    "                            visited.add(neighbor)\n",
    "                            bfs_queues[current_partition].append(neighbor)\n",
    "                            if partition_sizes[current_partition] >= target_sizes[current_partition]:\n",
    "                                break\n",
    "                            \n",
    "                # check if partition has reached the right size--else continue the loop for a new tree\n",
    "                if partition_sizes[current_partition] < target_sizes[current_partition]:\n",
    "                    #print(\"Attempt failed, generating a new spanning tree.\")\n",
    "                    return False          #initalizae for statistical inference \n",
    "                    #break  \n",
    "\n",
    "                # initalize next partition with an unvisited node \n",
    "                unvisited_nodes = [n for n in tree_graph.nodes if n not in visited]\n",
    "                if unvisited_nodes and current_partition + 1 < self.k:\n",
    "                    seed_node = unvisited_nodes[0]\n",
    "                    partitions[current_partition + 1].append(seed_node)\n",
    "                    partition_sizes[current_partition + 1] += 1\n",
    "                    visited.add(seed_node)\n",
    "                    bfs_queues[current_partition + 1].append(seed_node)\n",
    "\n",
    "            # check if all partitions are the right size\n",
    "            if all(partition_sizes[i] == target_sizes[i] for i in range(self.k)):\n",
    "                #print(\"Balanced partitions found.\")\n",
    "                return True\n",
    "                #break\n",
    "                \n",
    "'''\n",
    "        # Step 3: Plotting \n",
    "        node_locations = {v: (float(cnty.nodes()[v][\"INTPTLON20\"]) - 360 if float(cnty.nodes()[v][\"INTPTLON20\"]) > 0 else float(cnty.nodes()[v][\"INTPTLON20\"]),\n",
    "        float(cnty.nodes()[v][\"INTPTLAT20\"]))for v in cnty.nodes()}\n",
    "        pos = node_locations\n",
    "        plt.figure(figsize=(10, 10))\n",
    "        base_colors = ['blue', 'green']\n",
    "        spanning_tree_pos = {node: pos[node] for node in tree_graph.nodes}\n",
    "        for i, partition in enumerate(partitions):\n",
    "            nx.draw_networkx_nodes(tree_graph, spanning_tree_pos, nodelist=partition, node_size=50,\n",
    "                                   node_color=base_colors[i % len(base_colors)], label=f'Partition {i+1}')\n",
    "        nx.draw_networkx_edges(tree_graph, spanning_tree_pos, edge_color='gray', width=2)\n",
    "        plt.legend()\n",
    "        plt.title(\"Spanning Tree with Weighted, Connected, Balanced Partitions\")\n",
    "        plt.show()\n",
    "        return True\n",
    "'''\n",
    "\n",
    "G = cnty  \n",
    "k = 2 \n",
    "partitioner = GraphPartitioner(G, k)\n",
    "partitioner.create_weighted_partitions_and_draw_spanning_tree()"
   ]
  },
  {
   "cell_type": "code",
   "execution_count": 516,
   "metadata": {},
   "outputs": [
    {
     "data": {
      "image/png": "[encoded data removed]",
      "text/plain": [
       "<Figure size 800x800 with 1 Axes>"
      ]
     },
     "metadata": {},
     "output_type": "display_data"
    }
   ],
   "source": [
    "#plot of cnty's spannig tree \n",
    "node_locations = {v: (float(cnty.nodes()[v][\"INTPTLON20\"]) - 360 if float(cnty.nodes()[v][\"INTPTLON20\"]) > 0 else float(cnty.nodes()[v][\"INTPTLON20\"]),\n",
    "        float(cnty.nodes()[v][\"INTPTLAT20\"]))for v in cnty.nodes()}\n",
    "wilson = WilsonsAlgorithm(cnty)\n",
    "spanning_tree, root = wilson.sample()\n",
    "wilson.draw_tree(spanning_tree, root, node_locations)"
   ]
  },
  {
   "cell_type": "code",
   "execution_count": 439,
   "metadata": {},
   "outputs": [
    {
     "name": "stdout",
     "output_type": "stream",
     "text": [
      "Out of 1000 trials, the graph was splittable 26 times.\n",
      "Success Rate: 2.60%\n"
     ]
    },
    {
     "data": {
      "text/plain": [
       "2.6"
      ]
     },
     "execution_count": 439,
     "metadata": {},
     "output_type": "execute_result"
    }
   ],
   "source": [
    "#number of sucesses PER run \n",
    "def run_partition_simulations(graph, k, num_trials=1000):\n",
    "    successful_splits = 0\n",
    "    \n",
    "    for i in range(num_trials):\n",
    "        partitioner = GraphPartitioner(graph, k)\n",
    "        \n",
    "        if partitioner.create_weighted_partitions_and_draw_spanning_tree():\n",
    "            #print(\"Test succeeded\")\n",
    "            successful_splits += 1\n",
    "        #else:\n",
    "            #print(\"Test failed\")\n",
    "    \n",
    "    success_rate = (successful_splits / num_trials) * 100\n",
    "    print(f\"Out of {num_trials} trials, the graph was splittable {successful_splits} times.\")\n",
    "    print(f\"Success Rate: {success_rate:.2f}%\")\n",
    "    return success_rate\n",
    "\n",
    "run_partition_simulations(cnty, 2)"
   ]
  },
  {
   "cell_type": "code",
   "execution_count": 517,
   "metadata": {},
   "outputs": [
    {
     "name": "stdout",
     "output_type": "stream",
     "text": [
      "Success Rates for each run: [100.0, 100.0, 100.0, 100.0, 100.0, 100.0, 100.0, 100.0, 100.0, 100.0]\n",
      "Average Success Rate: 100.00%\n"
     ]
    }
   ],
   "source": [
    "def run_partition_simulations(graph, k, num_trials=100000, total_runs=10):\n",
    "    success_rates = []\n",
    "    \n",
    "    for run in range(total_runs):\n",
    "        successful_splits = 0  \n",
    "        for i in range(num_trials):\n",
    "            partitioner = GraphPartitioner(graph, k)\n",
    "            if partitioner.create_weighted_partitions_and_draw_spanning_tree(): \n",
    "                successful_splits += 1\n",
    "        \n",
    "        success_rate = (successful_splits / num_trials) * 100\n",
    "        success_rates.append(success_rate)\n",
    "    \n",
    "    average_success_rate = sum(success_rates) / total_runs\n",
    "    \n",
    "    print(\"Success Rates for each run:\", success_rates)\n",
    "    print(f\"Average Success Rate: {average_success_rate:.2f}%\")\n",
    "    \n",
    "    return success_rates, average_success_rate\n",
    "\n",
    "success_rates, average_success_rate = run_partition_simulations(cnty, 2)\n"
   ]
  }
 ],
 "metadata": {
  "kernelspec": {
   "display_name": "Python 3",
   "language": "python",
   "name": "python3"
  },
  "language_info": {
   "codemirror_mode": {
    "name": "ipython",
    "version": 3
   },
   "file_extension": ".py",
   "mimetype": "text/x-python",
   "name": "python",
   "nbconvert_exporter": "python",
   "pygments_lexer": "ipython3",
   "version": "3.11.3"
  }
 },
 "nbformat": 4,
 "nbformat_minor": 2
}
