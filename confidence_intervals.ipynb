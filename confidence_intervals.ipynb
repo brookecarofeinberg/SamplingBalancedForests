{
 "cells": [
  {
   "cell_type": "code",
   "execution_count": 32,
   "metadata": {},
   "outputs": [
    {
     "name": "stdout",
     "output_type": "stream",
     "text": [
      "Estimated p (mean): 0.5000\n",
      "95% Confidence Interval: (0.9948, 1.0052)\n"
     ]
    }
   ],
   "source": [
    "import numpy as np\n",
    "from scipy.stats import gamma\n",
    "\n",
    "def gbas_algorithm(k):\n",
    "    S = 0  # success counter\n",
    "    R = 0  # accumulated sum of exponential random variables\n",
    "    \n",
    "    while S < k:\n",
    "        X = np.random.binomial(1, 0.5)  # Simulated thinning process\n",
    "        A = np.random.exponential(1)\n",
    "        S += X\n",
    "        R += A\n",
    "    \n",
    "    # Estimate p using the GBAS formula\n",
    "    hat_p = (k - 1) / R\n",
    "    return hat_p, R\n",
    "\n",
    "\n",
    "def gbas_confidence_interval(k, alpha=0.10, trials=1000):\n",
    "    estimates = []\n",
    "    for i in range(trials):\n",
    "        hat_p, i = gbas_algorithm(k)\n",
    "        estimates.append(hat_p)\n",
    "    \n",
    "    # Use the Gamma distribution for CI\n",
    "    scale = 1 / (k - 1)\n",
    "    mean_estimate = np.mean(estimates)\n",
    "    ci_low = gamma.ppf(alpha / 2, a=k, scale=scale)\n",
    "    ci_high = gamma.ppf(1 - alpha / 2, a=k, scale=scale)\n",
    "    \n",
    "    return mean_estimate, ci_low, ci_high\n",
    "\n",
    "\n",
    "# Input Parameters\n",
    "n = 1000  # Total number of trials\n",
    "p_hat = 100 # Observed success rate from experiment\n",
    "k = int(n * p_hat)  # Number of observed successes\n",
    "mean_p, ci_low, ci_high = gbas_confidence_interval(k)\n",
    "\n",
    "print(f\"Estimated p (mean): {mean_p:.4f}\")\n",
    "print(f\"95% Confidence Interval: ({ci_low:.4f}, {ci_high:.4f})\")\n"
   ]
  },
  {
   "cell_type": "code",
   "execution_count": 33,
   "metadata": {},
   "outputs": [
    {
     "name": "stdout",
     "output_type": "stream",
     "text": [
      "Estimated p: 0.9955\n",
      "Total R accumulated: 180806.8689\n"
     ]
    }
   ],
   "source": [
    "import numpy as np\n",
    "\n",
    "def gbas_algorithm(k):\n",
    "    \"\"\"\n",
    "    GBAS algorithm to estimate p without knowing its value.\n",
    "    \n",
    "    Parameters:\n",
    "        k (int): Number of successes to simulate.\n",
    "        \n",
    "    Returns:\n",
    "        float: Estimated p using GBAS.\n",
    "        float: Total R value accumulated during the process.\n",
    "    \"\"\"\n",
    "    S = 0  # Success counter\n",
    "    R = 0  # Accumulated sum of exponential random variables\n",
    "    \n",
    "    while S < k:\n",
    "        # Generate Bernoulli random variable X indirectly via self-thinning\n",
    "        A = np.random.exponential(1)  # Exponential random variable\n",
    "        retain_probability = np.random.uniform(0, 1)  # Simulates thinning\n",
    "        X = 1 if retain_probability < 1 else 0  # Equivalent to Bernoulli(p)\n",
    "        \n",
    "        # Update counters\n",
    "        S += X\n",
    "        R += A\n",
    "    \n",
    "    # Estimate p using the GBAS formula\n",
    "    hat_p = (k - 1) / R\n",
    "    return hat_p, R\n",
    "\n",
    "# Example usage\n",
    "k = 180000  # Number of successes based on observed data (e.g., 0.18 * 1,000,000)\n",
    "estimated_p, total_R = gbas_algorithm(k)\n",
    "print(f\"Estimated p: {estimated_p:.4f}\")\n",
    "print(f\"Total R accumulated: {total_R:.4f}\")\n"
   ]
  },
  {
   "cell_type": "code",
   "execution_count": 45,
   "metadata": {},
   "outputs": [
    {
     "name": "stdout",
     "output_type": "stream",
     "text": [
      "Estimated p (mean): 1.0000\n",
      "95% Confidence Interval: (0.9067, 1.1031)\n"
     ]
    }
   ],
   "source": [
    "import numpy as np\n",
    "from scipy.stats import gamma\n",
    "\n",
    "def gbas_algorithm(k):\n",
    "    \"\"\"\n",
    "    GBAS algorithm to estimate p without knowing its value.\n",
    "    \n",
    "    Parameters:\n",
    "        k (int): Number of successes to simulate.\n",
    "        \n",
    "    Returns:\n",
    "        float: Estimated p using GBAS.\n",
    "        float: Total R value accumulated during the process.\n",
    "    \"\"\"\n",
    "    S = 0  # Success counter\n",
    "    R = 0  # Accumulated sum of exponential random variables\n",
    "    \n",
    "    while S < k:\n",
    "        # Generate a Bernoulli random variable X indirectly via self-thinning\n",
    "        A = np.random.exponential(1)  # Exponential random variable\n",
    "        retain_probability = np.random.uniform(0, 1)  # gonna always almost be less than one \n",
    "\n",
    "            #never gonna get you something less tha one\n",
    "\n",
    "        X = 1 if retain_probability < 1 else 0  # Equivalent to Bernoulli(p)\n",
    "        \n",
    "        # Update counters\n",
    "        S += X\n",
    "        R += A\n",
    "    \n",
    "    # Estimate p using the GBAS formula\n",
    "    hat_p = (k - 1) / R\n",
    "    return hat_p, R\n",
    "\n",
    "def gbas_confidence_interval(k, alpha=0.05, trials=100000):\n",
    "    \"\"\"\n",
    "    Runs the GBAS algorithm and computes confidence intervals for p.\n",
    "    \n",
    "    Parameters:\n",
    "        k (int): Number of successes to simulate.\n",
    "        alpha (float): Significance level for CI (default is 0.05 for 95% CI).\n",
    "        trials (int): Number of GBAS runs for accuracy.\n",
    "        \n",
    "    Returns:\n",
    "        tuple: Mean estimated p, lower bound, upper bound.\n",
    "    \"\"\"\n",
    "    estimates = []\n",
    "    for _ in range(trials):\n",
    "        hat_p, _ = gbas_algorithm(k)\n",
    "        estimates.append(hat_p)\n",
    "    \n",
    "    # Calculate mean of estimates\n",
    "    mean_p = np.mean(estimates)\n",
    "    \n",
    "    # Use Gamma distribution to calculate confidence bounds\n",
    "    scale = 1 / (k - 1)  # Scale parameter for Gamma distribution\n",
    "    ci_low = gamma.ppf(alpha / 2, a=k, scale=scale)\n",
    "    ci_high = gamma.ppf(1 - alpha / 2, a=k, scale=scale)\n",
    "    \n",
    "    return mean_p, ci_low, ci_high\n",
    "\n",
    "# Example usage\n",
    "k = 400  # Total successes based on observed data (e.g., 0.18 * 1,000,000)\n",
    "mean_p, ci_low, ci_high = gbas_confidence_interval(k, trials=100000)\n",
    "\n",
    "print(f\"Estimated p (mean): {mean_p:.4f}\")\n",
    "print(f\"95% Confidence Interval: ({ci_low:.4f}, {ci_high:.4f})\")\n"
   ]
  }
 ],
 "metadata": {
  "kernelspec": {
   "display_name": "Python 3",
   "language": "python",
   "name": "python3"
  },
  "language_info": {
   "codemirror_mode": {
    "name": "ipython",
    "version": 3
   },
   "file_extension": ".py",
   "mimetype": "text/x-python",
   "name": "python",
   "nbconvert_exporter": "python",
   "pygments_lexer": "ipython3",
   "version": "3.11.3"
  }
 },
 "nbformat": 4,
 "nbformat_minor": 2
}
